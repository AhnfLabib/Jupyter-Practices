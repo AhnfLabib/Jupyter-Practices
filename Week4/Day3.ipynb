{
 "cells": [
  {
   "cell_type": "code",
   "execution_count": 1,
   "id": "0810295a",
   "metadata": {},
   "outputs": [],
   "source": [
    "import numpy as np\n",
    "import mglearn\n",
    "from sklearn.model_selection import train_test_split\n",
    "from sklearn.linear_model import LinearRegression\n"
   ]
  },
  {
   "cell_type": "code",
   "execution_count": 2,
   "id": "a7b124cb",
   "metadata": {},
   "outputs": [],
   "source": [
    "X, y = mglearn.datasets.load_extended_boston()\n",
    "m, n = X.shape"
   ]
  },
  {
   "cell_type": "code",
   "execution_count": 3,
   "id": "a1a117c0",
   "metadata": {},
   "outputs": [],
   "source": [
    "X_train, X_test, y_train, y_test = train_test_split(X, y, random_state=0)"
   ]
  },
  {
   "cell_type": "code",
   "execution_count": 4,
   "id": "c1d30179",
   "metadata": {},
   "outputs": [
    {
     "name": "stdout",
     "output_type": "stream",
     "text": [
      "Training set score: 0.95\n",
      "Test set score: 0.61\n"
     ]
    }
   ],
   "source": [
    "lr = LinearRegression().fit(X_train, y_train)\n",
    "print(\"Training set score: {:.2f}\".format(lr.score(X_train, y_train)))\n",
    "print(\"Test set score: {:.2f}\".format(lr.score(X_test, y_test)))"
   ]
  },
  {
   "cell_type": "code",
   "execution_count": 6,
   "id": "19235baf",
   "metadata": {},
   "outputs": [],
   "source": [
    "# Gradient Descent\n",
    "\n",
    "W = np.zeros(n)\n",
    "\n",
    "b = 0.0\n",
    "alpha = 0.01\n",
    "\n",
    "m_train = len(y_train)"
   ]
  },
  {
   "cell_type": "code",
   "execution_count": 9,
   "id": "ecf3f86f",
   "metadata": {},
   "outputs": [],
   "source": [
    "def cost_and_grad(W, X, y, b):\n",
    "    y_pred = Xb@W + b\n",
    "    err = y_pred - yb\n",
    "    cost = (1/(2*m_train))*np.sum(err**2)\n",
    "    dW = (1/len(yb))*(Xb.T@err)\n",
    "    db = (1/len(yb))*np.sum(err)\n",
    "    return cost, dW, db"
   ]
  },
  {
   "cell_type": "code",
   "execution_count": null,
   "id": "98e1bd69",
   "metadata": {},
   "outputs": [],
   "source": [
    "for it in range(1, 6):\n",
    "    cost, dW, db = cost_and_grad(W, X_train, y_train, b)\n",
    "    print(f\"Iteration {it}: Cost = {cost:.4f}\")\n",
    "    W = W - alpha*dW\n",
    "    b = b - alpha*db\n",
    "    print(f\"iter {it}: cost = {cost:.4f}, ||dw|| = {np.linalg.norm(dW):.4f}, |db| = {np.abs(db):.4f}\")\n",
    "\n",
    "print(f\"Final W: {W}\")\n",
    "print(f\"Final b: {b}\")"
   ]
  },
  {
   "cell_type": "code",
   "execution_count": null,
   "id": "30efba42",
   "metadata": {},
   "outputs": [],
   "source": []
  }
 ],
 "metadata": {
  "kernelspec": {
   "display_name": "base",
   "language": "python",
   "name": "python3"
  },
  "language_info": {
   "codemirror_mode": {
    "name": "ipython",
    "version": 3
   },
   "file_extension": ".py",
   "mimetype": "text/x-python",
   "name": "python",
   "nbconvert_exporter": "python",
   "pygments_lexer": "ipython3",
   "version": "3.11.7"
  }
 },
 "nbformat": 4,
 "nbformat_minor": 5
}
