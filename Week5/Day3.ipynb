{
 "cells": [
  {
   "cell_type": "code",
   "execution_count": 17,
   "id": "9b57fa0d",
   "metadata": {},
   "outputs": [],
   "source": [
    "import numpy as np\n",
    "import pandas as pd\n",
    "from sklearn.datasets import load_breast_cancer\n",
    "from sklearn.model_selection import train_test_split\n",
    "from sklearn.linear_model import LogisticRegression\n",
    "from sklearn.metrics import accuracy_score"
   ]
  },
  {
   "cell_type": "code",
   "execution_count": 18,
   "id": "02249c89",
   "metadata": {},
   "outputs": [],
   "source": [
    "# Load Data\n",
    "data = load_breast_cancer()\n",
    "X, y = data.data, data.target"
   ]
  },
  {
   "cell_type": "code",
   "execution_count": 19,
   "id": "f740d206",
   "metadata": {},
   "outputs": [],
   "source": [
    "# Add some random noise 100 features\n",
    "np.random.seed(42)\n",
    "noise = np.random.normal(0, 1, size = (X.shape[0], 100))\n",
    "X = np.hstack([X, noise])"
   ]
  },
  {
   "cell_type": "code",
   "execution_count": null,
   "id": "d39a968f",
   "metadata": {},
   "outputs": [],
   "source": []
  },
  {
   "cell_type": "code",
   "execution_count": 20,
   "id": "232f7ecb",
   "metadata": {},
   "outputs": [],
   "source": [
    "X_train, X_test, y_train, y_test = train_test_split(\n",
    "    X, y, test_size = 0.3, random_state = 42\n",
    ")"
   ]
  },
  {
   "cell_type": "code",
   "execution_count": 21,
   "id": "ba4a05cb",
   "metadata": {},
   "outputs": [],
   "source": [
    "# Log reg\n",
    "log_reg = LogisticRegression(max_iter = 5000, solver = 'liblinear')\n",
    "log_reg.fit(X_train, y_train)\n",
    "y_pred_basic = log_reg.predict(X_test)\n",
    "acc_basic = accuracy_score(y_test, y_pred_basic)"
   ]
  },
  {
   "cell_type": "code",
   "execution_count": 22,
   "id": "e520cd8d",
   "metadata": {},
   "outputs": [],
   "source": [
    "# Log Reg with L1 (Lasso)\n",
    "log_reg_l1 = LogisticRegression(penalty = 'l1', max_iter = 5000, solver = 'liblinear')\n",
    "log_reg_l1.fit(X_train, y_train)\n",
    "y_pred_l1 = log_reg.predict(X_test)\n",
    "acc_l1 = accuracy_score(y_test, y_pred_l1)"
   ]
  },
  {
   "cell_type": "code",
   "execution_count": 23,
   "id": "ee55ce72",
   "metadata": {},
   "outputs": [],
   "source": [
    "# Log Reg with L2 (Ridge)\n",
    "log_reg_l2 = LogisticRegression(penalty = 'l2', max_iter = 5000, solver = 'liblinear')\n",
    "log_reg_l2.fit(X_train, y_train)\n",
    "y_pred_l2 = log_reg.predict(X_test)\n",
    "acc_l2 = accuracy_score(y_test, y_pred_l2)"
   ]
  },
  {
   "cell_type": "code",
   "execution_count": 24,
   "id": "95e6058a",
   "metadata": {},
   "outputs": [
    {
     "name": "stdout",
     "output_type": "stream",
     "text": [
      "Basic Log Reg:  0.9415204678362573\n",
      "L1 Log Reg:  0.9415204678362573\n",
      "L2 Log Reg:  0.9415204678362573\n"
     ]
    }
   ],
   "source": [
    "print(\"Basic Log Reg: \", acc_basic)\n",
    "print(\"L1 Log Reg: \", acc_l1)\n",
    "print(\"L2 Log Reg: \", acc_l2)"
   ]
  },
  {
   "cell_type": "code",
   "execution_count": null,
   "id": "cd33f8bb",
   "metadata": {},
   "outputs": [],
   "source": []
  },
  {
   "cell_type": "code",
   "execution_count": null,
   "id": "b2404f20",
   "metadata": {},
   "outputs": [],
   "source": []
  }
 ],
 "metadata": {
  "kernelspec": {
   "display_name": "base",
   "language": "python",
   "name": "python3"
  },
  "language_info": {
   "codemirror_mode": {
    "name": "ipython",
    "version": 3
   },
   "file_extension": ".py",
   "mimetype": "text/x-python",
   "name": "python",
   "nbconvert_exporter": "python",
   "pygments_lexer": "ipython3",
   "version": "3.11.7"
  }
 },
 "nbformat": 4,
 "nbformat_minor": 5
}
