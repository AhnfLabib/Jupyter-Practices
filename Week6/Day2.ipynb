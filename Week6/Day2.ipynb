{
 "cells": [
  {
   "cell_type": "code",
   "execution_count": 1,
   "id": "12b04cfa",
   "metadata": {},
   "outputs": [],
   "source": [
    "import numpy as np\n",
    "from sklearn.datasets import load_breast_cancer\n",
    "from sklearn.linear_model import LogisticRegression\n",
    "from sklearn.model_selection import train_test_split, cross_val_score, KFold, RepeatedKFold"
   ]
  },
  {
   "cell_type": "code",
   "execution_count": 2,
   "id": "1be2179c",
   "metadata": {},
   "outputs": [],
   "source": [
    "data = load_breast_cancer()\n",
    "X, y = data.data, data.target"
   ]
  },
  {
   "cell_type": "code",
   "execution_count": 3,
   "id": "d28a4c65",
   "metadata": {},
   "outputs": [],
   "source": [
    "model = LogisticRegression(max_iter = 5000, solver = 'lbfgs')"
   ]
  },
  {
   "cell_type": "code",
   "execution_count": 4,
   "id": "7bdcff8b",
   "metadata": {},
   "outputs": [
    {
     "name": "stdout",
     "output_type": "stream",
     "text": [
      "[No validation] Accuracy = 0.9578\n"
     ]
    }
   ],
   "source": [
    "model.fit(X, y)\n",
    "acc_all = model.score(X, y)\n",
    "print(f\"[No validation] Accuracy = {acc_all:.4f}\")"
   ]
  },
  {
   "cell_type": "code",
   "execution_count": 5,
   "id": "07919207",
   "metadata": {},
   "outputs": [],
   "source": [
    "# Holdout validation\n",
    "X_tr, X_te, y_tr, y_te = train_test_split(\n",
    "    X, y, test_size = 0.2, random_state = 0\n",
    ")"
   ]
  },
  {
   "cell_type": "code",
   "execution_count": 6,
   "id": "8f5a9f43",
   "metadata": {},
   "outputs": [
    {
     "name": "stdout",
     "output_type": "stream",
     "text": [
      "[Holdout] Accuracy = 0.9474\n"
     ]
    }
   ],
   "source": [
    "model.fit(X_tr, y_tr)\n",
    "acc_holdout = model.score(X_te, y_te)\n",
    "print(f\"[Holdout] Accuracy = {acc_holdout:.4f}\")"
   ]
  },
  {
   "cell_type": "code",
   "execution_count": 7,
   "id": "92d3eae8",
   "metadata": {},
   "outputs": [
    {
     "name": "stdout",
     "output_type": "stream",
     "text": [
      "[KFold] Mean = 0.9507, Std = 0.0191\n"
     ]
    }
   ],
   "source": [
    "# KFold\n",
    "kf = KFold(n_splits = 5, shuffle = True, random_state = 42)\n",
    "scores_kfold = cross_val_score(model, X, y, cv = kf)\n",
    "print(f\"[KFold] Mean = {scores_kfold.mean():.4f}, Std = {scores_kfold.std():.4f}\")"
   ]
  },
  {
   "cell_type": "code",
   "execution_count": 8,
   "id": "09f13f73",
   "metadata": {},
   "outputs": [
    {
     "name": "stdout",
     "output_type": "stream",
     "text": [
      "[KFold] Mean = 0.9537, Std = 0.0215\n"
     ]
    }
   ],
   "source": [
    "# Iterated (Repeated) KFold\n",
    "\n",
    "rkf = RepeatedKFold(n_splits = 5, n_repeats = 3, random_state = 42)\n",
    "scores_rkf = cross_val_score(model, X, y, cv = rkf)\n",
    "print(f\"[KFold] Mean = {scores_rkf.mean():.4f}, Std = {scores_rkf.std():.4f}\")"
   ]
  },
  {
   "cell_type": "code",
   "execution_count": 11,
   "id": "975c50f0",
   "metadata": {},
   "outputs": [],
   "source": [
    "# Linear Regression on Diabetes dataset\n",
    "from sklearn.datasets import load_diabetes\n",
    "from sklearn.linear_model import LinearRegression\n",
    "\n",
    "data_reg = load_diabetes()\n",
    "X_reg, y_reg = data_reg.data, data_reg.target\n",
    "linreg = LinearRegression()\n"
   ]
  },
  {
   "cell_type": "code",
   "execution_count": 12,
   "id": "9a1b3108",
   "metadata": {},
   "outputs": [
    {
     "name": "stdout",
     "output_type": "stream",
     "text": [
      "[No validation][LinearRegression] R^2 = 0.5177\n"
     ]
    }
   ],
   "source": [
    "# No validation\n",
    "linreg.fit(X_reg, y_reg)\n",
    "r2_all = linreg.score(X_reg, y_reg)\n",
    "print(f\"[No validation][LinearRegression] R^2 = {r2_all:.4f}\")\n"
   ]
  },
  {
   "cell_type": "code",
   "execution_count": 13,
   "id": "1f4b8529",
   "metadata": {},
   "outputs": [
    {
     "name": "stdout",
     "output_type": "stream",
     "text": [
      "[Holdout][LinearRegression] R^2 = 0.3322\n"
     ]
    }
   ],
   "source": [
    "# Holdout validation\n",
    "Xr_tr, Xr_te, yr_tr, yr_te = train_test_split(\n",
    "    X_reg, y_reg, test_size=0.2, random_state=0\n",
    ")\n",
    "linreg.fit(Xr_tr, yr_tr)\n",
    "r2_holdout = linreg.score(Xr_te, yr_te)\n",
    "print(f\"[Holdout][LinearRegression] R^2 = {r2_holdout:.4f}\")\n"
   ]
  },
  {
   "cell_type": "code",
   "execution_count": 14,
   "id": "0c0e831c",
   "metadata": {},
   "outputs": [
    {
     "name": "stdout",
     "output_type": "stream",
     "text": [
      "[KFold][LinearRegression] Mean = 0.4785, Std = 0.0850\n",
      "[RepeatedKFold][LinearRegression] Mean = 0.4800, Std = 0.0760\n"
     ]
    }
   ],
   "source": [
    "# KFold and RepeatedKFold\n",
    "kf_reg = KFold(n_splits=5, shuffle=True, random_state=42)\n",
    "scores_kfold_reg = cross_val_score(linreg, X_reg, y_reg, cv=kf_reg, scoring='r2')\n",
    "print(f\"[KFold][LinearRegression] Mean = {scores_kfold_reg.mean():.4f}, Std = {scores_kfold_reg.std():.4f}\")\n",
    "\n",
    "rkf_reg = RepeatedKFold(n_splits=5, n_repeats=3, random_state=42)\n",
    "scores_rkf_reg = cross_val_score(linreg, X_reg, y_reg, cv=rkf_reg, scoring='r2')\n",
    "print(f\"[RepeatedKFold][LinearRegression] Mean = {scores_rkf_reg.mean():.4f}, Std = {scores_rkf_reg.std():.4f}\")\n"
   ]
  }
 ],
 "metadata": {
  "kernelspec": {
   "display_name": "base",
   "language": "python",
   "name": "python3"
  },
  "language_info": {
   "codemirror_mode": {
    "name": "ipython",
    "version": 3
   },
   "file_extension": ".py",
   "mimetype": "text/x-python",
   "name": "python",
   "nbconvert_exporter": "python",
   "pygments_lexer": "ipython3",
   "version": "3.11.7"
  }
 },
 "nbformat": 4,
 "nbformat_minor": 5
}
