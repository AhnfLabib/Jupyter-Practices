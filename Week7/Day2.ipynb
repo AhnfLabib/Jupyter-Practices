{
 "cells": [
  {
   "cell_type": "code",
   "execution_count": 14,
   "id": "e45e1a60",
   "metadata": {},
   "outputs": [],
   "source": [
    "import numpy as np\n",
    "from sklearn.datasets import load_iris\n",
    "from sklearn.linear_model import LogisticRegression\n",
    "from sklearn.metrics import accuracy_score"
   ]
  },
  {
   "cell_type": "code",
   "execution_count": 8,
   "id": "367fa43e",
   "metadata": {},
   "outputs": [],
   "source": [
    "X, y = load_iris(return_X_y = True)\n",
    "classes = np.unique(y)"
   ]
  },
  {
   "cell_type": "code",
   "execution_count": 11,
   "id": "2da51f34",
   "metadata": {},
   "outputs": [],
   "source": [
    "models = []\n",
    "for k in classes:\n",
    "    y_bin = (y == k).astype(int)\n",
    "    m = LogisticRegression(solver = 'liblinear')\n",
    "    m.fit(X, y_bin)\n",
    "    models.append(m)\n"
   ]
  },
  {
   "cell_type": "code",
   "execution_count": 15,
   "id": "987bb60d",
   "metadata": {},
   "outputs": [
    {
     "name": "stdout",
     "output_type": "stream",
     "text": [
      "W shape:  (3, 4)\n",
      "b shape:  (3,)\n"
     ]
    }
   ],
   "source": [
    "W = np.vstack([m.coef_.ravel() for m in models])\n",
    "b = np.array([m.intercept_[0] for m in models])\n",
    "print(\"W shape: \", W.shape)\n",
    "print(\"b shape: \", b.shape)"
   ]
  },
  {
   "cell_type": "code",
   "execution_count": 16,
   "id": "01165043",
   "metadata": {},
   "outputs": [
    {
     "name": "stdout",
     "output_type": "stream",
     "text": [
      "Acc 0.96\n",
      "First class(0): w[ 0.41021713  1.46416217 -2.26003266 -1.02103509], b0.26421852991732475\n"
     ]
    }
   ],
   "source": [
    "scores = X @ W.T + b\n",
    "y_pred = np.argmax(scores, axis = 1)\n",
    "\n",
    "print(\"Acc\", accuracy_score(y, y_pred))\n",
    "print(\"First class({}): w{}, b{}\".format(classes[0], W[0], b[0]))"
   ]
  }
 ],
 "metadata": {
  "kernelspec": {
   "display_name": "base",
   "language": "python",
   "name": "python3"
  },
  "language_info": {
   "codemirror_mode": {
    "name": "ipython",
    "version": 3
   },
   "file_extension": ".py",
   "mimetype": "text/x-python",
   "name": "python",
   "nbconvert_exporter": "python",
   "pygments_lexer": "ipython3",
   "version": "3.11.7"
  }
 },
 "nbformat": 4,
 "nbformat_minor": 5
}
